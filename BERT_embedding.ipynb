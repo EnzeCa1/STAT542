{
 "cells": [
  {
   "cell_type": "code",
   "execution_count": null,
   "id": "b792cd67",
   "metadata": {},
   "outputs": [],
   "source": [
    "import pandas as pd\n",
    "import numpy as np\n",
    "from sklearn.linear_model import LinearRegression, LogisticRegression\n",
    "from sklearn.preprocessing import StandardScaler\n",
    "from sklearn.metrics import roc_auc_score\n",
    "from transformers import BertTokenizer, BertModel\n",
    "from IPython.core.display import HTML\n",
    "import torch\n",
    "import os\n",
    "import time\n",
    "import warnings\n"
   ]
  },
  {
   "cell_type": "code",
   "execution_count": null,
   "id": "ed12e591",
   "metadata": {},
   "outputs": [],
   "source": [
    "def get_bert_embeddings(reviews, model, tokenizer):\n",
    "    model.to('cpu')\n",
    "    model.eval()\n",
    "    embeddings = []\n",
    "    with torch.no_grad():\n",
    "        for review in reviews:\n",
    "            tokens = tokenizer(review, return_tensors='pt', truncation=True, padding=True, max_length=512).to('cpu')\n",
    "            outputs = model(**tokens)\n",
    "            cls_embedding = outputs.last_hidden_state[:, 0, :].cpu().numpy()\n",
    "            embeddings.append(cls_embedding[0])\n",
    "    return np.array(embeddings)\n",
    "\n"
   ]
  },
  {
   "cell_type": "code",
   "execution_count": null,
   "id": "ced059a5",
   "metadata": {},
   "outputs": [],
   "source": [
    "#prepare and align bert embeddings for interpretability \n",
    "bert_model_name = 'bert-base-uncased'\n",
    "tokenizer = BertTokenizer.from_pretrained(bert_model_name)\n",
    "bert_model = BertModel.from_pretrained(bert_model_name)\n",
    "\n",
    "sample_reviews = train_data['review'].sample(500, random_state=999).values\n",
    "bert_embeddings = get_bert_embeddings(sample_reviews, bert_model, tokenizer)\n",
    "openai_embeddings = train_data.iloc[:, 3:].sample(500, random_state=999).values\n",
    "\n",
    "alignment_model = LinearRegression()\n",
    "alignment_model.fit(bert_embeddings, openai_embeddings) "
   ]
  }
 ],
 "metadata": {
  "kernelspec": {
   "display_name": "Python 3 (ipykernel)",
   "language": "python",
   "name": "python3"
  },
  "language_info": {
   "codemirror_mode": {
    "name": "ipython",
    "version": 3
   },
   "file_extension": ".py",
   "mimetype": "text/x-python",
   "name": "python",
   "nbconvert_exporter": "python",
   "pygments_lexer": "ipython3",
   "version": "3.9.12"
  }
 },
 "nbformat": 4,
 "nbformat_minor": 5
}
