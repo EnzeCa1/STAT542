{
 "cells": [
  {
   "cell_type": "code",
   "execution_count": null,
   "id": "1f563389",
   "metadata": {},
   "outputs": [],
   "source": [
    "#delete this part in the report\n",
    "time_list = []\n",
    "split_AUC = []\n",
    "\n",
    "for i in range(1,6):\n",
    "    #the actual prediction model section (tested in a different file and it passes all 5 splits)\n",
    "    #Best Hyperparameters: {'C': 0.01, 'l1_ratio': 0.1}\n",
    "    #AUC Score: 0.98693\n",
    "    \n",
    "    start_time = time.time()\n",
    "\n",
    "    folder_name = f'F24_Proj3_data/split_{i}'\n",
    "    train_file = os.path.join(folder_name, 'train.csv')\n",
    "    test_file = os.path.join(folder_name, 'test.csv')\n",
    "    test_labels_file = os.path.join(folder_name, 'test_y.csv')\n",
    "\n",
    "    train_data = pd.read_csv(train_file)\n",
    "    test_data = pd.read_csv(test_file)\n",
    "    test_labels = pd.read_csv(test_labels_file)\n",
    "\n",
    "    X_train = train_data.iloc[:, 3:].values  \n",
    "    y_train = train_data['sentiment'].values\n",
    "    X_test = test_data.iloc[:, 2:].values  \n",
    "    y_test = test_labels['sentiment'].values\n",
    "\n",
    "    scaler = StandardScaler()\n",
    "    X_train = scaler.fit_transform(X_train)\n",
    "    X_test = scaler.transform(X_test)\n",
    "\n",
    "    pred_model = LogisticRegression(penalty='elasticnet', solver='saga', max_iter=500, C=0.01, l1_ratio=0.1)\n",
    "    pred_model.fit(X_train, y_train)\n",
    "\n",
    "    y_pred_proba = pred_model.predict_proba(X_test)[:, 1]\n",
    "    auc_score = roc_auc_score(y_test, y_pred_proba)\n",
    "    split_AUC.append(auc_score)\n",
    "    \n",
    "    end_time = time.time()\n",
    "    execution_time = end_time-start_time\n",
    "    time_list.append(execution_time)"
   ]
  }
 ],
 "metadata": {
  "kernelspec": {
   "display_name": "Python 3 (ipykernel)",
   "language": "python",
   "name": "python3"
  },
  "language_info": {
   "codemirror_mode": {
    "name": "ipython",
    "version": 3
   },
   "file_extension": ".py",
   "mimetype": "text/x-python",
   "name": "python",
   "nbconvert_exporter": "python",
   "pygments_lexer": "ipython3",
   "version": "3.9.12"
  }
 },
 "nbformat": 4,
 "nbformat_minor": 5
}
